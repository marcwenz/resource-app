{
 "metadata": {
  "language_info": {
   "codemirror_mode": {
    "name": "ipython",
    "version": 3
   },
   "file_extension": ".py",
   "mimetype": "text/x-python",
   "name": "python",
   "nbconvert_exporter": "python",
   "pygments_lexer": "ipython3",
   "version": "3.8.6-final"
  },
  "orig_nbformat": 2,
  "kernelspec": {
   "name": "python386jvsc74a57bd0082e9a3bcad0a290d0001e938aa60b99250c6c2ef33a923c00b70f9826caf4b7",
   "display_name": "Python 3.8.6 64-bit"
  },
  "metadata": {
   "interpreter": {
    "hash": "082e9a3bcad0a290d0001e938aa60b99250c6c2ef33a923c00b70f9826caf4b7"
   }
  }
 },
 "nbformat": 4,
 "nbformat_minor": 2,
 "cells": [
  {
   "cell_type": "code",
   "execution_count": 1,
   "metadata": {},
   "outputs": [],
   "source": [
    "import pandas as pd\n",
    "import numpy as np"
   ]
  },
  {
   "cell_type": "code",
   "execution_count": 4,
   "metadata": {},
   "outputs": [],
   "source": [
    "fp_vege = \"../resources/vegetables.csv\"\n",
    "fp_meat = \"../resources/meat.csv\""
   ]
  },
  {
   "cell_type": "code",
   "execution_count": 95,
   "metadata": {},
   "outputs": [
    {
     "output_type": "execute_result",
     "data": {
      "text/plain": [
       "   HS (PC-TAS) code                Product discription (HS)  \\\n",
       "0               NaN                                     NaN   \n",
       "1           10111.0         Horses, live pure-bred breeding   \n",
       "2               NaN                                     NaN   \n",
       "3               NaN                                     NaN   \n",
       "4           10119.0  Horses, live except pure-bred breeding   \n",
       "\n",
       "  Product description (SITC) Rootproduct (HS)  Product fraction  \\\n",
       "0                        NaN              NaN               NaN   \n",
       "1                     Horses           010111               1.0   \n",
       "2                        NaN              NaN               NaN   \n",
       "3                        NaN              NaN               NaN   \n",
       "4                        NaN           010111               1.0   \n",
       "\n",
       "   Value fraction               Country World Average Unnamed: 8  Unnamed: 9  \\\n",
       "0             NaN  Production system >>       Grazing      Mixed  Industrial   \n",
       "1             1.0                 Green         40317      34717       33337   \n",
       "2             NaN                  Blue          1470       3534        2183   \n",
       "3             NaN                  Grey           675       1179        1469   \n",
       "4             1.0                 Green         40317      34717       33337   \n",
       "\n",
       "        Unnamed: 10  \n",
       "0  Weighted average  \n",
       "1             37179  \n",
       "2              2462  \n",
       "3               971  \n",
       "4             37179  "
      ],
      "text/html": "<div>\n<style scoped>\n    .dataframe tbody tr th:only-of-type {\n        vertical-align: middle;\n    }\n\n    .dataframe tbody tr th {\n        vertical-align: top;\n    }\n\n    .dataframe thead th {\n        text-align: right;\n    }\n</style>\n<table border=\"1\" class=\"dataframe\">\n  <thead>\n    <tr style=\"text-align: right;\">\n      <th></th>\n      <th>HS (PC-TAS) code</th>\n      <th>Product discription (HS)</th>\n      <th>Product description (SITC)</th>\n      <th>Rootproduct (HS)</th>\n      <th>Product fraction</th>\n      <th>Value fraction</th>\n      <th>Country</th>\n      <th>World Average</th>\n      <th>Unnamed: 8</th>\n      <th>Unnamed: 9</th>\n      <th>Unnamed: 10</th>\n    </tr>\n  </thead>\n  <tbody>\n    <tr>\n      <th>0</th>\n      <td>NaN</td>\n      <td>NaN</td>\n      <td>NaN</td>\n      <td>NaN</td>\n      <td>NaN</td>\n      <td>NaN</td>\n      <td>Production system &gt;&gt;</td>\n      <td>Grazing</td>\n      <td>Mixed</td>\n      <td>Industrial</td>\n      <td>Weighted average</td>\n    </tr>\n    <tr>\n      <th>1</th>\n      <td>10111.0</td>\n      <td>Horses, live pure-bred breeding</td>\n      <td>Horses</td>\n      <td>010111</td>\n      <td>1.0</td>\n      <td>1.0</td>\n      <td>Green</td>\n      <td>40317</td>\n      <td>34717</td>\n      <td>33337</td>\n      <td>37179</td>\n    </tr>\n    <tr>\n      <th>2</th>\n      <td>NaN</td>\n      <td>NaN</td>\n      <td>NaN</td>\n      <td>NaN</td>\n      <td>NaN</td>\n      <td>NaN</td>\n      <td>Blue</td>\n      <td>1470</td>\n      <td>3534</td>\n      <td>2183</td>\n      <td>2462</td>\n    </tr>\n    <tr>\n      <th>3</th>\n      <td>NaN</td>\n      <td>NaN</td>\n      <td>NaN</td>\n      <td>NaN</td>\n      <td>NaN</td>\n      <td>NaN</td>\n      <td>Grey</td>\n      <td>675</td>\n      <td>1179</td>\n      <td>1469</td>\n      <td>971</td>\n    </tr>\n    <tr>\n      <th>4</th>\n      <td>10119.0</td>\n      <td>Horses, live except pure-bred breeding</td>\n      <td>NaN</td>\n      <td>010111</td>\n      <td>1.0</td>\n      <td>1.0</td>\n      <td>Green</td>\n      <td>40317</td>\n      <td>34717</td>\n      <td>33337</td>\n      <td>37179</td>\n    </tr>\n  </tbody>\n</table>\n</div>"
     },
     "metadata": {},
     "execution_count": 95
    }
   ],
   "source": [
    "df = pd.read_csv(fp_meat)\n",
    "df.head()"
   ]
  },
  {
   "cell_type": "code",
   "execution_count": 115,
   "metadata": {},
   "outputs": [
    {
     "output_type": "execute_result",
     "data": {
      "text/plain": [
       "   Product code (HS)                Product description (HS)  \\\n",
       "1            10111.0         Horses, live pure-bred breeding   \n",
       "2                NaN                                     NaN   \n",
       "3                NaN                                     NaN   \n",
       "4            10119.0  Horses, live except pure-bred breeding   \n",
       "5                NaN                                     NaN   \n",
       "\n",
       "  Product description (FAOSTAT) Root product (HS)  Product fraction (pf)  \\\n",
       "1                        Horses            010111                    1.0   \n",
       "2                           NaN               NaN                    NaN   \n",
       "3                           NaN               NaN                    NaN   \n",
       "4                           NaN            010111                    1.0   \n",
       "5                           NaN               NaN                    NaN   \n",
       "\n",
       "   Value fraction (vf) Water Type Global average  \n",
       "1                  1.0      Green          37179  \n",
       "2                  NaN       Blue           2462  \n",
       "3                  NaN       Grey            971  \n",
       "4                  1.0      Green          37179  \n",
       "5                  NaN       Blue           2462  "
      ],
      "text/html": "<div>\n<style scoped>\n    .dataframe tbody tr th:only-of-type {\n        vertical-align: middle;\n    }\n\n    .dataframe tbody tr th {\n        vertical-align: top;\n    }\n\n    .dataframe thead th {\n        text-align: right;\n    }\n</style>\n<table border=\"1\" class=\"dataframe\">\n  <thead>\n    <tr style=\"text-align: right;\">\n      <th></th>\n      <th>Product code (HS)</th>\n      <th>Product description (HS)</th>\n      <th>Product description (FAOSTAT)</th>\n      <th>Root product (HS)</th>\n      <th>Product fraction (pf)</th>\n      <th>Value fraction (vf)</th>\n      <th>Water Type</th>\n      <th>Global average</th>\n    </tr>\n  </thead>\n  <tbody>\n    <tr>\n      <th>1</th>\n      <td>10111.0</td>\n      <td>Horses, live pure-bred breeding</td>\n      <td>Horses</td>\n      <td>010111</td>\n      <td>1.0</td>\n      <td>1.0</td>\n      <td>Green</td>\n      <td>37179</td>\n    </tr>\n    <tr>\n      <th>2</th>\n      <td>NaN</td>\n      <td>NaN</td>\n      <td>NaN</td>\n      <td>NaN</td>\n      <td>NaN</td>\n      <td>NaN</td>\n      <td>Blue</td>\n      <td>2462</td>\n    </tr>\n    <tr>\n      <th>3</th>\n      <td>NaN</td>\n      <td>NaN</td>\n      <td>NaN</td>\n      <td>NaN</td>\n      <td>NaN</td>\n      <td>NaN</td>\n      <td>Grey</td>\n      <td>971</td>\n    </tr>\n    <tr>\n      <th>4</th>\n      <td>10119.0</td>\n      <td>Horses, live except pure-bred breeding</td>\n      <td>NaN</td>\n      <td>010111</td>\n      <td>1.0</td>\n      <td>1.0</td>\n      <td>Green</td>\n      <td>37179</td>\n    </tr>\n    <tr>\n      <th>5</th>\n      <td>NaN</td>\n      <td>NaN</td>\n      <td>NaN</td>\n      <td>NaN</td>\n      <td>NaN</td>\n      <td>NaN</td>\n      <td>Blue</td>\n      <td>2462</td>\n    </tr>\n  </tbody>\n</table>\n</div>"
     },
     "metadata": {},
     "execution_count": 115
    }
   ],
   "source": [
    "df.head()"
   ]
  },
  {
   "cell_type": "code",
   "execution_count": 111,
   "metadata": {},
   "outputs": [
    {
     "output_type": "execute_result",
     "data": {
      "text/plain": [
       "     Product code (HS)                Product description (HS)  \\\n",
       "1              10111.0         Horses, live pure-bred breeding   \n",
       "2                  NaN                                     NaN   \n",
       "3                  NaN                                     NaN   \n",
       "4              10119.0  Horses, live except pure-bred breeding   \n",
       "5                  NaN                                     NaN   \n",
       "..                 ...                                     ...   \n",
       "314                NaN                                     NaN   \n",
       "315                NaN                                     NaN   \n",
       "316           410710.0                      Swine leather, nes   \n",
       "317                NaN                                     NaN   \n",
       "318                NaN                                     NaN   \n",
       "\n",
       "    Product description (FAOSTAT) Root product (HS)  Product fraction (pf)  \\\n",
       "1                          Horses            010111                   1.00   \n",
       "2                             NaN               NaN                    NaN   \n",
       "3                             NaN               NaN                    NaN   \n",
       "4                             NaN            010111                   1.00   \n",
       "5                             NaN               NaN                    NaN   \n",
       "..                            ...               ...                    ...   \n",
       "314                           NaN               NaN                    NaN   \n",
       "315                           NaN               NaN                    NaN   \n",
       "316              Leather of swine            010310                   0.02   \n",
       "317                           NaN               NaN                    NaN   \n",
       "318                           NaN               NaN                    NaN   \n",
       "\n",
       "     Value fraction (vf) Water Type Weighted average  \n",
       "1                    1.0      Green            37179  \n",
       "2                    NaN       Blue             2462  \n",
       "3                    NaN       Grey              971  \n",
       "4                    1.0      Green            37179  \n",
       "5                    NaN       Blue             2462  \n",
       "..                   ...        ...              ...  \n",
       "314                  NaN       Blue              349  \n",
       "315                  NaN       Grey                6  \n",
       "316                  0.1      Green            15278  \n",
       "317                  NaN       Blue             1387  \n",
       "318                  NaN       Grey             1936  \n",
       "\n",
       "[318 rows x 8 columns]"
      ],
      "text/html": "<div>\n<style scoped>\n    .dataframe tbody tr th:only-of-type {\n        vertical-align: middle;\n    }\n\n    .dataframe tbody tr th {\n        vertical-align: top;\n    }\n\n    .dataframe thead th {\n        text-align: right;\n    }\n</style>\n<table border=\"1\" class=\"dataframe\">\n  <thead>\n    <tr style=\"text-align: right;\">\n      <th></th>\n      <th>Product code (HS)</th>\n      <th>Product description (HS)</th>\n      <th>Product description (FAOSTAT)</th>\n      <th>Root product (HS)</th>\n      <th>Product fraction (pf)</th>\n      <th>Value fraction (vf)</th>\n      <th>Water Type</th>\n      <th>Weighted average</th>\n    </tr>\n  </thead>\n  <tbody>\n    <tr>\n      <th>1</th>\n      <td>10111.0</td>\n      <td>Horses, live pure-bred breeding</td>\n      <td>Horses</td>\n      <td>010111</td>\n      <td>1.00</td>\n      <td>1.0</td>\n      <td>Green</td>\n      <td>37179</td>\n    </tr>\n    <tr>\n      <th>2</th>\n      <td>NaN</td>\n      <td>NaN</td>\n      <td>NaN</td>\n      <td>NaN</td>\n      <td>NaN</td>\n      <td>NaN</td>\n      <td>Blue</td>\n      <td>2462</td>\n    </tr>\n    <tr>\n      <th>3</th>\n      <td>NaN</td>\n      <td>NaN</td>\n      <td>NaN</td>\n      <td>NaN</td>\n      <td>NaN</td>\n      <td>NaN</td>\n      <td>Grey</td>\n      <td>971</td>\n    </tr>\n    <tr>\n      <th>4</th>\n      <td>10119.0</td>\n      <td>Horses, live except pure-bred breeding</td>\n      <td>NaN</td>\n      <td>010111</td>\n      <td>1.00</td>\n      <td>1.0</td>\n      <td>Green</td>\n      <td>37179</td>\n    </tr>\n    <tr>\n      <th>5</th>\n      <td>NaN</td>\n      <td>NaN</td>\n      <td>NaN</td>\n      <td>NaN</td>\n      <td>NaN</td>\n      <td>NaN</td>\n      <td>Blue</td>\n      <td>2462</td>\n    </tr>\n    <tr>\n      <th>...</th>\n      <td>...</td>\n      <td>...</td>\n      <td>...</td>\n      <td>...</td>\n      <td>...</td>\n      <td>...</td>\n      <td>...</td>\n      <td>...</td>\n    </tr>\n    <tr>\n      <th>314</th>\n      <td>NaN</td>\n      <td>NaN</td>\n      <td>NaN</td>\n      <td>NaN</td>\n      <td>NaN</td>\n      <td>NaN</td>\n      <td>Blue</td>\n      <td>349</td>\n    </tr>\n    <tr>\n      <th>315</th>\n      <td>NaN</td>\n      <td>NaN</td>\n      <td>NaN</td>\n      <td>NaN</td>\n      <td>NaN</td>\n      <td>NaN</td>\n      <td>Grey</td>\n      <td>6</td>\n    </tr>\n    <tr>\n      <th>316</th>\n      <td>410710.0</td>\n      <td>Swine leather, nes</td>\n      <td>Leather of swine</td>\n      <td>010310</td>\n      <td>0.02</td>\n      <td>0.1</td>\n      <td>Green</td>\n      <td>15278</td>\n    </tr>\n    <tr>\n      <th>317</th>\n      <td>NaN</td>\n      <td>NaN</td>\n      <td>NaN</td>\n      <td>NaN</td>\n      <td>NaN</td>\n      <td>NaN</td>\n      <td>Blue</td>\n      <td>1387</td>\n    </tr>\n    <tr>\n      <th>318</th>\n      <td>NaN</td>\n      <td>NaN</td>\n      <td>NaN</td>\n      <td>NaN</td>\n      <td>NaN</td>\n      <td>NaN</td>\n      <td>Grey</td>\n      <td>1936</td>\n    </tr>\n  </tbody>\n</table>\n<p>318 rows × 8 columns</p>\n</div>"
     },
     "metadata": {},
     "execution_count": 111
    }
   ],
   "source": [
    "df[df['Weighted average'] == np.nan]"
   ]
  },
  {
   "cell_type": "code",
   "execution_count": 113,
   "metadata": {},
   "outputs": [],
   "source": [
    "df.columns = ['Product code (HS)', 'Product description (HS)',\n",
    "       'Product description (FAOSTAT)', 'Root product (HS)',\n",
    "       'Product fraction (pf)', 'Value fraction (vf)', 'Water Type', 'Global average']"
   ]
  },
  {
   "cell_type": "code",
   "execution_count": 13,
   "metadata": {},
   "outputs": [],
   "source": [
    "cols = ['Product code (HS)', 'Product description (HS)',\n",
    "       'Product description (FAOSTAT)', 'Root product (HS)',\n",
    "       'Product fraction (pf)', 'Value fraction (vf)',\n",
    "       'Global average (Green)', 'Global average (Blue)', 'Global average (Grey)', 'Total Global average']"
   ]
  },
  {
   "cell_type": "code",
   "execution_count": 101,
   "metadata": {},
   "outputs": [],
   "source": [
    "df.drop(0, inplace=True)"
   ]
  },
  {
   "cell_type": "code",
   "execution_count": 122,
   "metadata": {},
   "outputs": [],
   "source": [
    "df['Global average'] = df['Global average'].astype(int)"
   ]
  },
  {
   "cell_type": "code",
   "execution_count": 123,
   "metadata": {
    "tags": []
   },
   "outputs": [
    {
     "output_type": "execute_result",
     "data": {
      "text/plain": [
       "    Product code (HS)                Product description (HS)  \\\n",
       "1             10111.0         Horses, live pure-bred breeding   \n",
       "4             10119.0  Horses, live except pure-bred breeding   \n",
       "7             10120.0          Asses, mules and hinnies, live   \n",
       "10            10210.0         Bovine, live pure-bred breeding   \n",
       "13            10290.0  Bovine, live except pure-bred breeding   \n",
       "\n",
       "   Product description (FAOSTAT) Root product (HS)  Product fraction (pf)  \\\n",
       "1                         Horses            010111                    1.0   \n",
       "4                            NaN            010111                    1.0   \n",
       "7          Asses, mules, hinnies            010111                    1.0   \n",
       "10      Bov.animals,pure,breedng            010210                    1.0   \n",
       "13          Other bovine animals            010210                    1.0   \n",
       "\n",
       "    Value fraction (vf)  Global average (Green)  Global average (Blue)  \\\n",
       "1                   1.0                   37179                   2462   \n",
       "4                   1.0                   37179                   2462   \n",
       "7                   1.0                   37179                   2462   \n",
       "10                  1.0                    7002                    256   \n",
       "13                  1.0                    7002                    256   \n",
       "\n",
       "    Global average (Grey)  Total Global average  \n",
       "1                     971                 40612  \n",
       "4                     971                 40612  \n",
       "7                     971                 40612  \n",
       "10                    219                  7477  \n",
       "13                    219                  7477  "
      ],
      "text/html": "<div>\n<style scoped>\n    .dataframe tbody tr th:only-of-type {\n        vertical-align: middle;\n    }\n\n    .dataframe tbody tr th {\n        vertical-align: top;\n    }\n\n    .dataframe thead th {\n        text-align: right;\n    }\n</style>\n<table border=\"1\" class=\"dataframe\">\n  <thead>\n    <tr style=\"text-align: right;\">\n      <th></th>\n      <th>Product code (HS)</th>\n      <th>Product description (HS)</th>\n      <th>Product description (FAOSTAT)</th>\n      <th>Root product (HS)</th>\n      <th>Product fraction (pf)</th>\n      <th>Value fraction (vf)</th>\n      <th>Global average (Green)</th>\n      <th>Global average (Blue)</th>\n      <th>Global average (Grey)</th>\n      <th>Total Global average</th>\n    </tr>\n  </thead>\n  <tbody>\n    <tr>\n      <th>1</th>\n      <td>10111.0</td>\n      <td>Horses, live pure-bred breeding</td>\n      <td>Horses</td>\n      <td>010111</td>\n      <td>1.0</td>\n      <td>1.0</td>\n      <td>37179</td>\n      <td>2462</td>\n      <td>971</td>\n      <td>40612</td>\n    </tr>\n    <tr>\n      <th>4</th>\n      <td>10119.0</td>\n      <td>Horses, live except pure-bred breeding</td>\n      <td>NaN</td>\n      <td>010111</td>\n      <td>1.0</td>\n      <td>1.0</td>\n      <td>37179</td>\n      <td>2462</td>\n      <td>971</td>\n      <td>40612</td>\n    </tr>\n    <tr>\n      <th>7</th>\n      <td>10120.0</td>\n      <td>Asses, mules and hinnies, live</td>\n      <td>Asses, mules, hinnies</td>\n      <td>010111</td>\n      <td>1.0</td>\n      <td>1.0</td>\n      <td>37179</td>\n      <td>2462</td>\n      <td>971</td>\n      <td>40612</td>\n    </tr>\n    <tr>\n      <th>10</th>\n      <td>10210.0</td>\n      <td>Bovine, live pure-bred breeding</td>\n      <td>Bov.animals,pure,breedng</td>\n      <td>010210</td>\n      <td>1.0</td>\n      <td>1.0</td>\n      <td>7002</td>\n      <td>256</td>\n      <td>219</td>\n      <td>7477</td>\n    </tr>\n    <tr>\n      <th>13</th>\n      <td>10290.0</td>\n      <td>Bovine, live except pure-bred breeding</td>\n      <td>Other bovine animals</td>\n      <td>010210</td>\n      <td>1.0</td>\n      <td>1.0</td>\n      <td>7002</td>\n      <td>256</td>\n      <td>219</td>\n      <td>7477</td>\n    </tr>\n  </tbody>\n</table>\n</div>"
     },
     "metadata": {},
     "execution_count": 123
    }
   ],
   "source": [
    "prev_val = None\n",
    "new_df = []\n",
    "is_current = True\n",
    "for row in df.iterrows():\n",
    "    row = row[1]\n",
    "    if row[1] is not np.nan:\n",
    "        if prev_val is not None:\n",
    "            prev_val.drop(['Water Type', 'Global average'], inplace=True)\n",
    "            prev_val['Total Global average'] = sum([prev_val[col] for col in [f'Global average ({t})' for t in ['Green', 'Blue', 'Grey']]])\n",
    "            new_df.append(prev_val)\n",
    "        prev_val = row\n",
    "        if row['Global average'] is np.nan:\n",
    "            row['Global average'] = 0\n",
    "    prev_val['Global average ({})'.format(row['Water Type'])] = row['Global average']\n",
    "    \n",
    "new_df = pd.DataFrame(new_df)\n",
    "new_df.head()\n",
    "\n",
    "        "
   ]
  },
  {
   "cell_type": "code",
   "execution_count": 124,
   "metadata": {},
   "outputs": [
    {
     "output_type": "execute_result",
     "data": {
      "text/plain": [
       "   Product code (HS)                Product description (HS)  \\\n",
       "0            10111.0         Horses, live pure-bred breeding   \n",
       "1            10119.0  Horses, live except pure-bred breeding   \n",
       "2            10120.0          Asses, mules and hinnies, live   \n",
       "3            10210.0         Bovine, live pure-bred breeding   \n",
       "4            10290.0  Bovine, live except pure-bred breeding   \n",
       "\n",
       "  Product description (FAOSTAT) Root product (HS)  Product fraction (pf)  \\\n",
       "0                        Horses            010111                    1.0   \n",
       "1                           NaN            010111                    1.0   \n",
       "2         Asses, mules, hinnies            010111                    1.0   \n",
       "3      Bov.animals,pure,breedng            010210                    1.0   \n",
       "4          Other bovine animals            010210                    1.0   \n",
       "\n",
       "   Value fraction (vf)  Global average (Green)  Global average (Blue)  \\\n",
       "0                  1.0                   37179                   2462   \n",
       "1                  1.0                   37179                   2462   \n",
       "2                  1.0                   37179                   2462   \n",
       "3                  1.0                    7002                    256   \n",
       "4                  1.0                    7002                    256   \n",
       "\n",
       "   Global average (Grey)  Total Global average  \n",
       "0                    971                 40612  \n",
       "1                    971                 40612  \n",
       "2                    971                 40612  \n",
       "3                    219                  7477  \n",
       "4                    219                  7477  "
      ],
      "text/html": "<div>\n<style scoped>\n    .dataframe tbody tr th:only-of-type {\n        vertical-align: middle;\n    }\n\n    .dataframe tbody tr th {\n        vertical-align: top;\n    }\n\n    .dataframe thead th {\n        text-align: right;\n    }\n</style>\n<table border=\"1\" class=\"dataframe\">\n  <thead>\n    <tr style=\"text-align: right;\">\n      <th></th>\n      <th>Product code (HS)</th>\n      <th>Product description (HS)</th>\n      <th>Product description (FAOSTAT)</th>\n      <th>Root product (HS)</th>\n      <th>Product fraction (pf)</th>\n      <th>Value fraction (vf)</th>\n      <th>Global average (Green)</th>\n      <th>Global average (Blue)</th>\n      <th>Global average (Grey)</th>\n      <th>Total Global average</th>\n    </tr>\n  </thead>\n  <tbody>\n    <tr>\n      <th>0</th>\n      <td>10111.0</td>\n      <td>Horses, live pure-bred breeding</td>\n      <td>Horses</td>\n      <td>010111</td>\n      <td>1.0</td>\n      <td>1.0</td>\n      <td>37179</td>\n      <td>2462</td>\n      <td>971</td>\n      <td>40612</td>\n    </tr>\n    <tr>\n      <th>1</th>\n      <td>10119.0</td>\n      <td>Horses, live except pure-bred breeding</td>\n      <td>NaN</td>\n      <td>010111</td>\n      <td>1.0</td>\n      <td>1.0</td>\n      <td>37179</td>\n      <td>2462</td>\n      <td>971</td>\n      <td>40612</td>\n    </tr>\n    <tr>\n      <th>2</th>\n      <td>10120.0</td>\n      <td>Asses, mules and hinnies, live</td>\n      <td>Asses, mules, hinnies</td>\n      <td>010111</td>\n      <td>1.0</td>\n      <td>1.0</td>\n      <td>37179</td>\n      <td>2462</td>\n      <td>971</td>\n      <td>40612</td>\n    </tr>\n    <tr>\n      <th>3</th>\n      <td>10210.0</td>\n      <td>Bovine, live pure-bred breeding</td>\n      <td>Bov.animals,pure,breedng</td>\n      <td>010210</td>\n      <td>1.0</td>\n      <td>1.0</td>\n      <td>7002</td>\n      <td>256</td>\n      <td>219</td>\n      <td>7477</td>\n    </tr>\n    <tr>\n      <th>4</th>\n      <td>10290.0</td>\n      <td>Bovine, live except pure-bred breeding</td>\n      <td>Other bovine animals</td>\n      <td>010210</td>\n      <td>1.0</td>\n      <td>1.0</td>\n      <td>7002</td>\n      <td>256</td>\n      <td>219</td>\n      <td>7477</td>\n    </tr>\n  </tbody>\n</table>\n</div>"
     },
     "metadata": {},
     "execution_count": 124
    }
   ],
   "source": [
    "new_df.reset_index(inplace=True, drop=True)\n",
    "new_df.head()"
   ]
  },
  {
   "cell_type": "code",
   "execution_count": 125,
   "metadata": {},
   "outputs": [
    {
     "output_type": "execute_result",
     "data": {
      "text/plain": [
       "Empty DataFrame\n",
       "Columns: [Product code (HS), Product description (HS), Product description (FAOSTAT), Root product (HS), Product fraction (pf), Value fraction (vf), Global average (Green), Global average (Blue), Global average (Grey), Total Global average]\n",
       "Index: []"
      ],
      "text/html": "<div>\n<style scoped>\n    .dataframe tbody tr th:only-of-type {\n        vertical-align: middle;\n    }\n\n    .dataframe tbody tr th {\n        vertical-align: top;\n    }\n\n    .dataframe thead th {\n        text-align: right;\n    }\n</style>\n<table border=\"1\" class=\"dataframe\">\n  <thead>\n    <tr style=\"text-align: right;\">\n      <th></th>\n      <th>Product code (HS)</th>\n      <th>Product description (HS)</th>\n      <th>Product description (FAOSTAT)</th>\n      <th>Root product (HS)</th>\n      <th>Product fraction (pf)</th>\n      <th>Value fraction (vf)</th>\n      <th>Global average (Green)</th>\n      <th>Global average (Blue)</th>\n      <th>Global average (Grey)</th>\n      <th>Total Global average</th>\n    </tr>\n  </thead>\n  <tbody>\n  </tbody>\n</table>\n</div>"
     },
     "metadata": {},
     "execution_count": 125
    }
   ],
   "source": [
    "new_df[new_df['Total Global average'] == np.nan]"
   ]
  },
  {
   "cell_type": "code",
   "execution_count": 91,
   "metadata": {},
   "outputs": [
    {
     "output_type": "stream",
     "name": "stdout",
     "text": [
      "Product code (HS)                                                           530290\n",
      "Product description (HS)         True hemp fibre otherwise processd but not spu...\n",
      "Product description (FAOSTAT)                                                  NaN\n",
      "Root product (HS)                                                           530210\n",
      "Product fraction (pf)                                                         0.90\n",
      "Value fraction (vf)                                                           1.00\n",
      "Global average (Green)                                                      2026.0\n",
      "Global average (Blue)                                                        300.0\n",
      "Global average (Grey)                                                        693.0\n",
      "Total Global average                                                        3019.0\n",
      "Name: 335, dtype: object\n",
      "<ipython-input-91-81b995f9686c>:4: SettingWithCopyWarning: \n",
      "A value is trying to be set on a copy of a slice from a DataFrame\n",
      "\n",
      "See the caveats in the documentation: https://pandas.pydata.org/pandas-docs/stable/user_guide/indexing.html#returning-a-view-versus-a-copy\n",
      "  new_df['Global average (Blue)'][ix] = val\n",
      "<ipython-input-91-81b995f9686c>:5: SettingWithCopyWarning: \n",
      "A value is trying to be set on a copy of a slice from a DataFrame\n",
      "\n",
      "See the caveats in the documentation: https://pandas.pydata.org/pandas-docs/stable/user_guide/indexing.html#returning-a-view-versus-a-copy\n",
      "  new_df['Total Global average'][ix] = sum([new_df[col][ix] for col in [f'Global average ({t})' for t in ['Green', 'Blue', 'Grey']]])\n"
     ]
    }
   ],
   "source": [
    "ix = 335\n",
    "val = 300\n",
    "\n",
    "new_df['Global average (Blue)'][ix] = val\n",
    "new_df['Total Global average'][ix] = sum([new_df[col][ix] for col in [f'Global average ({t})' for t in ['Green', 'Blue', 'Grey']]])\n",
    "print(new_df.loc[ix])"
   ]
  },
  {
   "cell_type": "code",
   "execution_count": 126,
   "metadata": {},
   "outputs": [],
   "source": [
    "new_df.to_csv(\"../resources/meat_processed.csv\", index=False)"
   ]
  },
  {
   "cell_type": "code",
   "execution_count": 127,
   "metadata": {},
   "outputs": [],
   "source": [
    "df1 = pd.read_csv(\"../resources/vegetable_processed.csv\")\n",
    "df2 = pd.read_csv(\"../resources/meat_processed.csv\")"
   ]
  },
  {
   "cell_type": "code",
   "execution_count": 134,
   "metadata": {},
   "outputs": [
    {
     "output_type": "execute_result",
     "data": {
      "text/plain": [
       "(352, 10)"
      ]
     },
     "metadata": {},
     "execution_count": 134
    }
   ],
   "source": [
    "df1.shape"
   ]
  },
  {
   "cell_type": "code",
   "execution_count": 133,
   "metadata": {},
   "outputs": [
    {
     "output_type": "execute_result",
     "data": {
      "text/plain": [
       "(105, 10)"
      ]
     },
     "metadata": {},
     "execution_count": 133
    }
   ],
   "source": [
    "df2.shape"
   ]
  },
  {
   "cell_type": "code",
   "execution_count": 136,
   "metadata": {},
   "outputs": [],
   "source": [
    "df1 = df1.append(df2)"
   ]
  },
  {
   "cell_type": "code",
   "execution_count": 137,
   "metadata": {},
   "outputs": [
    {
     "output_type": "execute_result",
     "data": {
      "text/plain": [
       "(457, 10)"
      ]
     },
     "metadata": {},
     "execution_count": 137
    }
   ],
   "source": [
    "df1.shape"
   ]
  },
  {
   "cell_type": "code",
   "execution_count": 138,
   "metadata": {},
   "outputs": [],
   "source": [
    "df1.reset_index(drop=True, inplace=True)"
   ]
  },
  {
   "cell_type": "code",
   "execution_count": 139,
   "metadata": {},
   "outputs": [],
   "source": [
    "df1.to_csv(\"../resources/combined.csv\")"
   ]
  },
  {
   "cell_type": "code",
   "execution_count": 2,
   "metadata": {},
   "outputs": [],
   "source": [
    "df = pd.read_csv(\"../resources/combined.csv\", index_col=0)"
   ]
  },
  {
   "cell_type": "code",
   "execution_count": 3,
   "metadata": {},
   "outputs": [
    {
     "output_type": "execute_result",
     "data": {
      "text/plain": [
       "  Product code (HS)                   Product description (HS)  \\\n",
       "0   100110 / 100190  Wheat (Durum wheat, Wheat nes and meslin)   \n",
       "1            110100                      Wheat or meslin flour   \n",
       "2           110100a                                Wheat bread   \n",
       "3           110100b                                  Dry pasta   \n",
       "4            110311                      Wheat groats and meal   \n",
       "\n",
       "  Product description (FAOSTAT) Root product (HS) Product fraction (pf)  \\\n",
       "0                         Wheat   100110 / 100190                  1.00   \n",
       "1                           NaN            100190                  0.79   \n",
       "2                           NaN            110100                  1.15   \n",
       "3                           NaN            110100                  1.00   \n",
       "4                           NaN            110321                  1.00   \n",
       "\n",
       "  Value fraction (vf)  Global average (Green)  Global average (Blue)  \\\n",
       "0                1.00                  1277.0                  342.0   \n",
       "1                0.80                  1292.0                  347.0   \n",
       "2                1.00                  1124.0                  301.0   \n",
       "3                1.00                  1292.0                  347.0   \n",
       "4                1.00                  1423.0                  382.0   \n",
       "\n",
       "   Global average (Grey)  Total Global average  \n",
       "0                  207.0                1826.0  \n",
       "1                  210.0                1849.0  \n",
       "2                  183.0                1608.0  \n",
       "3                  210.0                1849.0  \n",
       "4                  231.0                2036.0  "
      ],
      "text/html": "<div>\n<style scoped>\n    .dataframe tbody tr th:only-of-type {\n        vertical-align: middle;\n    }\n\n    .dataframe tbody tr th {\n        vertical-align: top;\n    }\n\n    .dataframe thead th {\n        text-align: right;\n    }\n</style>\n<table border=\"1\" class=\"dataframe\">\n  <thead>\n    <tr style=\"text-align: right;\">\n      <th></th>\n      <th>Product code (HS)</th>\n      <th>Product description (HS)</th>\n      <th>Product description (FAOSTAT)</th>\n      <th>Root product (HS)</th>\n      <th>Product fraction (pf)</th>\n      <th>Value fraction (vf)</th>\n      <th>Global average (Green)</th>\n      <th>Global average (Blue)</th>\n      <th>Global average (Grey)</th>\n      <th>Total Global average</th>\n    </tr>\n  </thead>\n  <tbody>\n    <tr>\n      <th>0</th>\n      <td>100110 / 100190</td>\n      <td>Wheat (Durum wheat, Wheat nes and meslin)</td>\n      <td>Wheat</td>\n      <td>100110 / 100190</td>\n      <td>1.00</td>\n      <td>1.00</td>\n      <td>1277.0</td>\n      <td>342.0</td>\n      <td>207.0</td>\n      <td>1826.0</td>\n    </tr>\n    <tr>\n      <th>1</th>\n      <td>110100</td>\n      <td>Wheat or meslin flour</td>\n      <td>NaN</td>\n      <td>100190</td>\n      <td>0.79</td>\n      <td>0.80</td>\n      <td>1292.0</td>\n      <td>347.0</td>\n      <td>210.0</td>\n      <td>1849.0</td>\n    </tr>\n    <tr>\n      <th>2</th>\n      <td>110100a</td>\n      <td>Wheat bread</td>\n      <td>NaN</td>\n      <td>110100</td>\n      <td>1.15</td>\n      <td>1.00</td>\n      <td>1124.0</td>\n      <td>301.0</td>\n      <td>183.0</td>\n      <td>1608.0</td>\n    </tr>\n    <tr>\n      <th>3</th>\n      <td>110100b</td>\n      <td>Dry pasta</td>\n      <td>NaN</td>\n      <td>110100</td>\n      <td>1.00</td>\n      <td>1.00</td>\n      <td>1292.0</td>\n      <td>347.0</td>\n      <td>210.0</td>\n      <td>1849.0</td>\n    </tr>\n    <tr>\n      <th>4</th>\n      <td>110311</td>\n      <td>Wheat groats and meal</td>\n      <td>NaN</td>\n      <td>110321</td>\n      <td>1.00</td>\n      <td>1.00</td>\n      <td>1423.0</td>\n      <td>382.0</td>\n      <td>231.0</td>\n      <td>2036.0</td>\n    </tr>\n  </tbody>\n</table>\n</div>"
     },
     "metadata": {},
     "execution_count": 3
    }
   ],
   "source": [
    "df.head()"
   ]
  },
  {
   "cell_type": "code",
   "execution_count": 4,
   "metadata": {},
   "outputs": [],
   "source": [
    "df.to_csv(\"../resources/combined.csv\", index=False)"
   ]
  },
  {
   "cell_type": "code",
   "execution_count": null,
   "metadata": {},
   "outputs": [],
   "source": []
  }
 ]
}